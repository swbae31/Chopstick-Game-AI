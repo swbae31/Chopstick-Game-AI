{
  "nbformat": 4,
  "nbformat_minor": 0,
  "metadata": {
    "colab": {
      "name": "CollabNotebook.ipynb",
      "provenance": [],
      "collapsed_sections": [],
      "include_colab_link": true
    },
    "kernelspec": {
      "name": "python3",
      "display_name": "Python 3"
    },
    "language_info": {
      "name": "python"
    }
  },
  "cells": [
    {
      "cell_type": "markdown",
      "metadata": {
        "id": "view-in-github",
        "colab_type": "text"
      },
      "source": [
        "<a href=\"https://colab.research.google.com/github/swbae31/Chopstick-Game-AI/blob/main/CollabNotebook.ipynb\" target=\"_parent\"><img src=\"https://colab.research.google.com/assets/colab-badge.svg\" alt=\"Open In Colab\"/></a>"
      ]
    },
    {
      "cell_type": "markdown",
      "source": [
        "Mount Google Drive"
      ],
      "metadata": {
        "id": "VRtCY1ro9QvF"
      }
    },
    {
      "cell_type": "code",
      "source": [
        "from google.colab import drive\n",
        "drive.mount('/content/gdrive')\n",
        "%cd gdrive/My Drive/Projects"
      ],
      "metadata": {
        "id": "tOW_8xXY5JP5"
      },
      "execution_count": null,
      "outputs": []
    },
    {
      "cell_type": "markdown",
      "source": [
        "Clone GitHub repo if needed"
      ],
      "metadata": {
        "id": "TnNDkihX9Why"
      }
    },
    {
      "cell_type": "code",
      "source": [
        "!git clone https://github.com/swbae31/Chopstick-Game-AI.git"
      ],
      "metadata": {
        "id": "bvzXJN8Z7jTi"
      },
      "execution_count": null,
      "outputs": []
    },
    {
      "cell_type": "code",
      "source": [
        "%cd Chopstick-Game-AI"
      ],
      "metadata": {
        "id": "1BqUbbPG8um5"
      },
      "execution_count": null,
      "outputs": []
    },
    {
      "cell_type": "markdown",
      "source": [
        "Install venv if needed"
      ],
      "metadata": {
        "id": "lg1rogVCN1ld"
      }
    },
    {
      "cell_type": "code",
      "source": [
        "!sudo apt install python3.7-venv"
      ],
      "metadata": {
        "id": "bm0gXe58Np8t"
      },
      "execution_count": null,
      "outputs": []
    },
    {
      "cell_type": "code",
      "source": [
        "!python -m venv ./venv"
      ],
      "metadata": {
        "id": "9tS0cCuR86Rp"
      },
      "execution_count": 65,
      "outputs": []
    },
    {
      "cell_type": "code",
      "source": [
        "!sudo /bin/bash venv/bin/activate"
      ],
      "metadata": {
        "id": "JrRgrDJeOBzQ"
      },
      "execution_count": 87,
      "outputs": []
    },
    {
      "cell_type": "code",
      "source": [
        "!python Play.py"
      ],
      "metadata": {
        "id": "26GvcfHMO3s2"
      },
      "execution_count": null,
      "outputs": []
    },
    {
      "cell_type": "code",
      "source": [
        "!git push"
      ],
      "metadata": {
        "colab": {
          "base_uri": "https://localhost:8080/"
        },
        "id": "BxwZtFYeShAD",
        "outputId": "7e24531e-f590-425a-9e2f-5b2e7f2885ff"
      },
      "execution_count": 135,
      "outputs": [
        {
          "output_type": "stream",
          "name": "stdout",
          "text": [
            "Everything up-to-date\n"
          ]
        }
      ]
    }
  ]
}